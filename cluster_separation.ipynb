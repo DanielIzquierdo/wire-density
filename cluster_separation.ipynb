{
 "cells": [
  {
   "cell_type": "code",
   "execution_count": 1,
   "metadata": {},
   "outputs": [],
   "source": [
    "import pandas as pd"
   ]
  },
  {
   "cell_type": "code",
   "execution_count": 17,
   "metadata": {},
   "outputs": [
    {
     "data": {
      "text/html": [
       "<div>\n",
       "<style scoped>\n",
       "    .dataframe tbody tr th:only-of-type {\n",
       "        vertical-align: middle;\n",
       "    }\n",
       "\n",
       "    .dataframe tbody tr th {\n",
       "        vertical-align: top;\n",
       "    }\n",
       "\n",
       "    .dataframe thead th {\n",
       "        text-align: right;\n",
       "    }\n",
       "</style>\n",
       "<table border=\"1\" class=\"dataframe\">\n",
       "  <thead>\n",
       "    <tr style=\"text-align: right;\">\n",
       "      <th></th>\n",
       "      <th>X</th>\n",
       "      <th>Y</th>\n",
       "      <th>Z</th>\n",
       "      <th>RGB</th>\n",
       "    </tr>\n",
       "  </thead>\n",
       "  <tbody>\n",
       "    <tr>\n",
       "      <th>0</th>\n",
       "      <td>0</td>\n",
       "      <td>0</td>\n",
       "      <td>0.0000</td>\n",
       "      <td>4288498784</td>\n",
       "    </tr>\n",
       "    <tr>\n",
       "      <th>1</th>\n",
       "      <td>53322</td>\n",
       "      <td>-87064</td>\n",
       "      <td>9512.0000</td>\n",
       "      <td>4288498784</td>\n",
       "    </tr>\n",
       "    <tr>\n",
       "      <th>2</th>\n",
       "      <td>52780</td>\n",
       "      <td>-93733</td>\n",
       "      <td>9015.9004</td>\n",
       "      <td>4288498784</td>\n",
       "    </tr>\n",
       "    <tr>\n",
       "      <th>3</th>\n",
       "      <td>53365</td>\n",
       "      <td>-87068</td>\n",
       "      <td>8760.9004</td>\n",
       "      <td>4288498784</td>\n",
       "    </tr>\n",
       "    <tr>\n",
       "      <th>4</th>\n",
       "      <td>52252</td>\n",
       "      <td>-93876</td>\n",
       "      <td>9630.9004</td>\n",
       "      <td>4288498784</td>\n",
       "    </tr>\n",
       "  </tbody>\n",
       "</table>\n",
       "</div>"
      ],
      "text/plain": [
       "       X      Y          Z         RGB\n",
       "0      0      0     0.0000  4288498784\n",
       "1  53322 -87064  9512.0000  4288498784\n",
       "2  52780 -93733  9015.9004  4288498784\n",
       "3  53365 -87068  8760.9004  4288498784\n",
       "4  52252 -93876  9630.9004  4288498784"
      ]
     },
     "execution_count": 17,
     "metadata": {},
     "output_type": "execute_result"
    }
   ],
   "source": [
    "data_pts = pd.read_csv(\"clusters/clustered_cloud_43.pcd\", sep=\" \", skiprows=11, names=[\"X\", \"Y\", \"Z\", \"RGB\"])\n",
    "data_pts.head()"
   ]
  },
  {
   "cell_type": "code",
   "execution_count": 8,
   "metadata": {},
   "outputs": [
    {
     "data": {
      "text/plain": [
       "'number of clusters: 14'"
      ]
     },
     "execution_count": 8,
     "metadata": {},
     "output_type": "execute_result"
    }
   ],
   "source": [
    "\"number of clusters: \"+str(len(data_pts_unc.RGB.value_counts()))"
   ]
  },
  {
   "cell_type": "code",
   "execution_count": 18,
   "metadata": {},
   "outputs": [],
   "source": [
    "def include_header(filename, lines):\n",
    "    header = \"\"\"# .PCD v0.7 - Point Cloud Data file format\n",
    "VERSION 0.7\n",
    "FIELDS x y z rgb\n",
    "SIZE 4 4 4 4\n",
    "TYPE F F F F\n",
    "COUNT 1 1 1 1\n",
    "WIDTH {0}\n",
    "HEIGHT 1\n",
    "VIEWPOINT 0 0 0 1 0 0 0\n",
    "POINTS {1}\n",
    "DATA ascii\"\"\".format(lines,lines)\n",
    "    with open(filename, 'r+') as f:\n",
    "        file_data = f.read()\n",
    "        f.seek(0, 0)\n",
    "        f.write(header + '\\n' + file_data)"
   ]
  },
  {
   "cell_type": "code",
   "execution_count": 21,
   "metadata": {},
   "outputs": [
    {
     "name": "stdout",
     "output_type": "stream",
     "text": [
      "FINISHED\n"
     ]
    }
   ],
   "source": [
    "cluster_colors = data_pts_unc.RGB.value_counts().values\n",
    "for color in cluster_colors:\n",
    "    color2 = str(color)\n",
    "    new_name = \"clusters/\"+color2+\"_cluster_87.pcd\"\n",
    "    data_to_save = data_pts[data_pts.RGB==color]\n",
    "    data_to_save.to_csv(new_name, sep=\" \", index=False, index_label=False, header=False)\n",
    "    lines = len(data_to_save)\n",
    "    include_header(new_name,lines)\n",
    "    \n",
    "print(\"FINISHED\")"
   ]
  }
 ],
 "metadata": {
  "kernelspec": {
   "display_name": "Python 3",
   "language": "python",
   "name": "python3"
  },
  "language_info": {
   "codemirror_mode": {
    "name": "ipython",
    "version": 3
   },
   "file_extension": ".py",
   "mimetype": "text/x-python",
   "name": "python",
   "nbconvert_exporter": "python",
   "pygments_lexer": "ipython3",
   "version": "3.5.2"
  }
 },
 "nbformat": 4,
 "nbformat_minor": 2
}
