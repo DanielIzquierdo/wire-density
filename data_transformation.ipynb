{
 "cells": [
  {
   "cell_type": "code",
   "execution_count": 1,
   "metadata": {},
   "outputs": [],
   "source": [
    "import pandas as pd"
   ]
  },
  {
   "cell_type": "code",
   "execution_count": 32,
   "metadata": {},
   "outputs": [],
   "source": [
    "# transformar puntos a coordenadas\n",
    "\n",
    "def pts_to_coord(pts):\n",
    "    scale_x, scale_y, scale_z = [0.00000001,0.00000001,0.0001]\n",
    "    off_x, off_y, off_z = [-79.896755406032327, -2.160151783696628, 2.3477050884498151]\n",
    "    return [pts[0]*scale_x+off_x, pts[1]*scale_y+off_y,pts[2]*scale_z+off_z]\n"
   ]
  },
  {
   "cell_type": "code",
   "execution_count": 61,
   "metadata": {},
   "outputs": [
    {
     "data": {
      "text/plain": [
       "[-79.89296739603233, -2.157975933696628, 3.207655088449815]"
      ]
     },
     "execution_count": 61,
     "metadata": {},
     "output_type": "execute_result"
    }
   ],
   "source": [
    "#lejos\n",
    "pts = [378801.000000, 217585.000000, 8599.500000]\n",
    "pts_to_coord(pts)"
   ]
  },
  {
   "cell_type": "code",
   "execution_count": 60,
   "metadata": {},
   "outputs": [
    {
     "data": {
      "text/plain": [
       "[-79.89275844603233, -2.158485223696628, 2.902925107949815]"
      ]
     },
     "execution_count": 60,
     "metadata": {},
     "output_type": "execute_result"
    }
   ],
   "source": [
    "#cerca\n",
    "pts = [399696.000000, 166656.000000, 5552.200195]\n",
    "pts_to_coord(pts)"
   ]
  },
  {
   "cell_type": "code",
   "execution_count": 33,
   "metadata": {},
   "outputs": [
    {
     "data": {
      "text/plain": [
       "[-79.89280695603233, -2.158346983696628, 2.857605088449815]"
      ]
     },
     "execution_count": 33,
     "metadata": {},
     "output_type": "execute_result"
    }
   ],
   "source": [
    "pts = [394845.000000, 180480.000000, 5099.000000]\n",
    "pts_to_coord(pts)"
   ]
  },
  {
   "cell_type": "code",
   "execution_count": 65,
   "metadata": {},
   "outputs": [
    {
     "data": {
      "text/plain": [
       "[-79.89273184603233, -2.158508783696628, 3.307625107949815]"
      ]
     },
     "execution_count": 65,
     "metadata": {},
     "output_type": "execute_result"
    }
   ],
   "source": [
    "#coordenadas en cable\n",
    "pts_to_coord([402356.000000, 164300.000000, 9599.200195])"
   ]
  },
  {
   "cell_type": "code",
   "execution_count": 62,
   "metadata": {},
   "outputs": [
    {
     "data": {
      "text/plain": [
       "[-79.89258704603233, -2.158392373696628, 2.751105088449815]"
      ]
     },
     "execution_count": 62,
     "metadata": {},
     "output_type": "execute_result"
    }
   ],
   "source": [
    "#coordenadas hacia la derecha\n",
    "pts_to_coord([416836.000000, 175941.000000, 4034.000000])"
   ]
  },
  {
   "cell_type": "code",
   "execution_count": 64,
   "metadata": {},
   "outputs": [
    {
     "data": {
      "text/plain": [
       "[-79.89323258603233, -2.158392803696628, 2.889865098249815]"
      ]
     },
     "execution_count": 64,
     "metadata": {},
     "output_type": "execute_result"
    }
   ],
   "source": [
    "#coordenadas hacia la izquierda\n",
    "pts_to_coord([352282.000000, 175898.000000, 5421.600098])"
   ]
  },
  {
   "cell_type": "code",
   "execution_count": 2,
   "metadata": {},
   "outputs": [
    {
     "data": {
      "text/html": [
       "<div>\n",
       "<style scoped>\n",
       "    .dataframe tbody tr th:only-of-type {\n",
       "        vertical-align: middle;\n",
       "    }\n",
       "\n",
       "    .dataframe tbody tr th {\n",
       "        vertical-align: top;\n",
       "    }\n",
       "\n",
       "    .dataframe thead th {\n",
       "        text-align: right;\n",
       "    }\n",
       "</style>\n",
       "<table border=\"1\" class=\"dataframe\">\n",
       "  <thead>\n",
       "    <tr style=\"text-align: right;\">\n",
       "      <th></th>\n",
       "      <th>X</th>\n",
       "      <th>Y</th>\n",
       "      <th>Z</th>\n",
       "      <th>RGB</th>\n",
       "    </tr>\n",
       "  </thead>\n",
       "  <tbody>\n",
       "    <tr>\n",
       "      <th>0</th>\n",
       "      <td>355055</td>\n",
       "      <td>170605</td>\n",
       "      <td>6635.5000</td>\n",
       "      <td>1.206931e-38</td>\n",
       "    </tr>\n",
       "    <tr>\n",
       "      <th>1</th>\n",
       "      <td>359762</td>\n",
       "      <td>161212</td>\n",
       "      <td>3638.6001</td>\n",
       "      <td>1.814704e-38</td>\n",
       "    </tr>\n",
       "    <tr>\n",
       "      <th>2</th>\n",
       "      <td>354025</td>\n",
       "      <td>170291</td>\n",
       "      <td>8314.7998</td>\n",
       "      <td>2.092551e-38</td>\n",
       "    </tr>\n",
       "    <tr>\n",
       "      <th>3</th>\n",
       "      <td>353683</td>\n",
       "      <td>170134</td>\n",
       "      <td>8165.0000</td>\n",
       "      <td>2.147904e-38</td>\n",
       "    </tr>\n",
       "    <tr>\n",
       "      <th>4</th>\n",
       "      <td>351083</td>\n",
       "      <td>180798</td>\n",
       "      <td>6814.2998</td>\n",
       "      <td>1.152083e-38</td>\n",
       "    </tr>\n",
       "  </tbody>\n",
       "</table>\n",
       "</div>"
      ],
      "text/plain": [
       "        X       Y          Z           RGB\n",
       "0  355055  170605  6635.5000  1.206931e-38\n",
       "1  359762  161212  3638.6001  1.814704e-38\n",
       "2  354025  170291  8314.7998  2.092551e-38\n",
       "3  353683  170134  8165.0000  2.147904e-38\n",
       "4  351083  180798  6814.2998  1.152083e-38"
      ]
     },
     "execution_count": 2,
     "metadata": {},
     "output_type": "execute_result"
    }
   ],
   "source": [
    "#recortar nube de puntos\n",
    "data_pts_unc = pd.read_csv(\"cloud_87.pcd\", sep=\" \", skiprows=11, names=[\"X\", \"Y\", \"Z\", \"RGB\"])\n",
    "data_pts_unc.head()"
   ]
  },
  {
   "cell_type": "code",
   "execution_count": 3,
   "metadata": {},
   "outputs": [
    {
     "data": {
      "text/html": [
       "<div>\n",
       "<style scoped>\n",
       "    .dataframe tbody tr th:only-of-type {\n",
       "        vertical-align: middle;\n",
       "    }\n",
       "\n",
       "    .dataframe tbody tr th {\n",
       "        vertical-align: top;\n",
       "    }\n",
       "\n",
       "    .dataframe thead th {\n",
       "        text-align: right;\n",
       "    }\n",
       "</style>\n",
       "<table border=\"1\" class=\"dataframe\">\n",
       "  <thead>\n",
       "    <tr style=\"text-align: right;\">\n",
       "      <th></th>\n",
       "      <th>X</th>\n",
       "      <th>Y</th>\n",
       "      <th>Z</th>\n",
       "      <th>RGB</th>\n",
       "      <th>lat</th>\n",
       "      <th>lon</th>\n",
       "      <th>height</th>\n",
       "    </tr>\n",
       "  </thead>\n",
       "  <tbody>\n",
       "    <tr>\n",
       "      <th>0</th>\n",
       "      <td>355055</td>\n",
       "      <td>170605</td>\n",
       "      <td>6635.5000</td>\n",
       "      <td>1.206931e-38</td>\n",
       "      <td>-79.893205</td>\n",
       "      <td>-2.158446</td>\n",
       "      <td>3.011255</td>\n",
       "    </tr>\n",
       "    <tr>\n",
       "      <th>1</th>\n",
       "      <td>359762</td>\n",
       "      <td>161212</td>\n",
       "      <td>3638.6001</td>\n",
       "      <td>1.814704e-38</td>\n",
       "      <td>-79.893158</td>\n",
       "      <td>-2.158540</td>\n",
       "      <td>2.711565</td>\n",
       "    </tr>\n",
       "    <tr>\n",
       "      <th>2</th>\n",
       "      <td>354025</td>\n",
       "      <td>170291</td>\n",
       "      <td>8314.7998</td>\n",
       "      <td>2.092551e-38</td>\n",
       "      <td>-79.893215</td>\n",
       "      <td>-2.158449</td>\n",
       "      <td>3.179185</td>\n",
       "    </tr>\n",
       "    <tr>\n",
       "      <th>3</th>\n",
       "      <td>353683</td>\n",
       "      <td>170134</td>\n",
       "      <td>8165.0000</td>\n",
       "      <td>2.147904e-38</td>\n",
       "      <td>-79.893219</td>\n",
       "      <td>-2.158450</td>\n",
       "      <td>3.164205</td>\n",
       "    </tr>\n",
       "    <tr>\n",
       "      <th>4</th>\n",
       "      <td>351083</td>\n",
       "      <td>180798</td>\n",
       "      <td>6814.2998</td>\n",
       "      <td>1.152083e-38</td>\n",
       "      <td>-79.893245</td>\n",
       "      <td>-2.158344</td>\n",
       "      <td>3.029135</td>\n",
       "    </tr>\n",
       "  </tbody>\n",
       "</table>\n",
       "</div>"
      ],
      "text/plain": [
       "        X       Y          Z           RGB        lat       lon    height\n",
       "0  355055  170605  6635.5000  1.206931e-38 -79.893205 -2.158446  3.011255\n",
       "1  359762  161212  3638.6001  1.814704e-38 -79.893158 -2.158540  2.711565\n",
       "2  354025  170291  8314.7998  2.092551e-38 -79.893215 -2.158449  3.179185\n",
       "3  353683  170134  8165.0000  2.147904e-38 -79.893219 -2.158450  3.164205\n",
       "4  351083  180798  6814.2998  1.152083e-38 -79.893245 -2.158344  3.029135"
      ]
     },
     "execution_count": 3,
     "metadata": {},
     "output_type": "execute_result"
    }
   ],
   "source": [
    "data_pts = data_pts_unc.copy()\n",
    "data_pts[\"lat\"] = data_pts_unc[\"X\"]*0.00000001 + (-79.896755406032327)\n",
    "data_pts[\"lon\"] = data_pts_unc[\"Y\"]*0.00000001 + (-2.160151783696628)\n",
    "data_pts[\"height\"] = data_pts_unc[\"Z\"]*0.0001 + (2.3477050884498151)\n",
    "data_pts.head()"
   ]
  },
  {
   "cell_type": "code",
   "execution_count": 4,
   "metadata": {},
   "outputs": [
    {
     "data": {
      "text/plain": [
       "4.485765088449815"
      ]
     },
     "execution_count": 4,
     "metadata": {},
     "output_type": "execute_result"
    }
   ],
   "source": [
    "only_tall_pts = data_pts[(data_pts.height>2.5) & (data_pts.height<4.5)]\n",
    "only_tall_pts.height.max()\n"
   ]
  },
  {
   "cell_type": "code",
   "execution_count": 5,
   "metadata": {},
   "outputs": [
    {
     "data": {
      "text/html": [
       "<div>\n",
       "<style scoped>\n",
       "    .dataframe tbody tr th:only-of-type {\n",
       "        vertical-align: middle;\n",
       "    }\n",
       "\n",
       "    .dataframe tbody tr th {\n",
       "        vertical-align: top;\n",
       "    }\n",
       "\n",
       "    .dataframe thead th {\n",
       "        text-align: right;\n",
       "    }\n",
       "</style>\n",
       "<table border=\"1\" class=\"dataframe\">\n",
       "  <thead>\n",
       "    <tr style=\"text-align: right;\">\n",
       "      <th></th>\n",
       "      <th>X</th>\n",
       "      <th>Y</th>\n",
       "      <th>Z</th>\n",
       "      <th>RGB</th>\n",
       "    </tr>\n",
       "  </thead>\n",
       "  <tbody>\n",
       "    <tr>\n",
       "      <th>0</th>\n",
       "      <td>355055</td>\n",
       "      <td>170605</td>\n",
       "      <td>6635.5000</td>\n",
       "      <td>1.206931e-38</td>\n",
       "    </tr>\n",
       "    <tr>\n",
       "      <th>1</th>\n",
       "      <td>359762</td>\n",
       "      <td>161212</td>\n",
       "      <td>3638.6001</td>\n",
       "      <td>1.814704e-38</td>\n",
       "    </tr>\n",
       "    <tr>\n",
       "      <th>2</th>\n",
       "      <td>354025</td>\n",
       "      <td>170291</td>\n",
       "      <td>8314.7998</td>\n",
       "      <td>2.092551e-38</td>\n",
       "    </tr>\n",
       "    <tr>\n",
       "      <th>3</th>\n",
       "      <td>353683</td>\n",
       "      <td>170134</td>\n",
       "      <td>8165.0000</td>\n",
       "      <td>2.147904e-38</td>\n",
       "    </tr>\n",
       "    <tr>\n",
       "      <th>4</th>\n",
       "      <td>351083</td>\n",
       "      <td>180798</td>\n",
       "      <td>6814.2998</td>\n",
       "      <td>1.152083e-38</td>\n",
       "    </tr>\n",
       "  </tbody>\n",
       "</table>\n",
       "</div>"
      ],
      "text/plain": [
       "        X       Y          Z           RGB\n",
       "0  355055  170605  6635.5000  1.206931e-38\n",
       "1  359762  161212  3638.6001  1.814704e-38\n",
       "2  354025  170291  8314.7998  2.092551e-38\n",
       "3  353683  170134  8165.0000  2.147904e-38\n",
       "4  351083  180798  6814.2998  1.152083e-38"
      ]
     },
     "execution_count": 5,
     "metadata": {},
     "output_type": "execute_result"
    }
   ],
   "source": [
    "only_tall_pts[[\"X\", \"Y\", \"Z\", \"RGB\"]].head()"
   ]
  },
  {
   "cell_type": "code",
   "execution_count": 6,
   "metadata": {},
   "outputs": [],
   "source": [
    "#guardar sin color\n",
    "only_tall_pts[[\"X\", \"Y\", \"Z\", \"RGB\"]].to_csv(\"medium_cloud_87.pcd\", sep=\" \", index=False, index_label=False)"
   ]
  }
 ],
 "metadata": {
  "kernelspec": {
   "display_name": "Python 3",
   "language": "python",
   "name": "python3"
  },
  "language_info": {
   "codemirror_mode": {
    "name": "ipython",
    "version": 3
   },
   "file_extension": ".py",
   "mimetype": "text/x-python",
   "name": "python",
   "nbconvert_exporter": "python",
   "pygments_lexer": "ipython3",
   "version": "3.5.2"
  }
 },
 "nbformat": 4,
 "nbformat_minor": 2
}
