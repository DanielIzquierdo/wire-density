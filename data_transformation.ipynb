{
 "cells": [
  {
   "cell_type": "code",
   "execution_count": 1,
   "metadata": {},
   "outputs": [],
   "source": [
    "import pandas as pd"
   ]
  },
  {
   "cell_type": "code",
   "execution_count": 32,
   "metadata": {},
   "outputs": [],
   "source": [
    "# transformar puntos a coordenadas\n",
    "\n",
    "def pts_to_coord(pts):\n",
    "    scale_x, scale_y, scale_z = [0.00000001,0.00000001,0.0001]\n",
    "    off_x, off_y, off_z = [-79.896755406032327, -2.160151783696628, 2.3477050884498151]\n",
    "    return [pts[0]*scale_x+off_x, pts[1]*scale_y+off_y,pts[2]*scale_z+off_z]\n"
   ]
  },
  {
   "cell_type": "code",
   "execution_count": 14,
   "metadata": {},
   "outputs": [
    {
     "data": {
      "text/html": [
       "<div>\n",
       "<style scoped>\n",
       "    .dataframe tbody tr th:only-of-type {\n",
       "        vertical-align: middle;\n",
       "    }\n",
       "\n",
       "    .dataframe tbody tr th {\n",
       "        vertical-align: top;\n",
       "    }\n",
       "\n",
       "    .dataframe thead th {\n",
       "        text-align: right;\n",
       "    }\n",
       "</style>\n",
       "<table border=\"1\" class=\"dataframe\">\n",
       "  <thead>\n",
       "    <tr style=\"text-align: right;\">\n",
       "      <th></th>\n",
       "      <th>X</th>\n",
       "      <th>Y</th>\n",
       "      <th>Z</th>\n",
       "      <th>RGB</th>\n",
       "    </tr>\n",
       "  </thead>\n",
       "  <tbody>\n",
       "    <tr>\n",
       "      <th>0</th>\n",
       "      <td>355055</td>\n",
       "      <td>170605</td>\n",
       "      <td>6635.5000</td>\n",
       "      <td>1.206931e-38</td>\n",
       "    </tr>\n",
       "    <tr>\n",
       "      <th>1</th>\n",
       "      <td>359762</td>\n",
       "      <td>161212</td>\n",
       "      <td>3638.6001</td>\n",
       "      <td>1.814704e-38</td>\n",
       "    </tr>\n",
       "    <tr>\n",
       "      <th>2</th>\n",
       "      <td>354025</td>\n",
       "      <td>170291</td>\n",
       "      <td>8314.7998</td>\n",
       "      <td>2.092551e-38</td>\n",
       "    </tr>\n",
       "    <tr>\n",
       "      <th>3</th>\n",
       "      <td>353683</td>\n",
       "      <td>170134</td>\n",
       "      <td>8165.0000</td>\n",
       "      <td>2.147904e-38</td>\n",
       "    </tr>\n",
       "    <tr>\n",
       "      <th>4</th>\n",
       "      <td>351083</td>\n",
       "      <td>180798</td>\n",
       "      <td>6814.2998</td>\n",
       "      <td>1.152083e-38</td>\n",
       "    </tr>\n",
       "  </tbody>\n",
       "</table>\n",
       "</div>"
      ],
      "text/plain": [
       "        X       Y          Z           RGB\n",
       "0  355055  170605  6635.5000  1.206931e-38\n",
       "1  359762  161212  3638.6001  1.814704e-38\n",
       "2  354025  170291  8314.7998  2.092551e-38\n",
       "3  353683  170134  8165.0000  2.147904e-38\n",
       "4  351083  180798  6814.2998  1.152083e-38"
      ]
     },
     "execution_count": 14,
     "metadata": {},
     "output_type": "execute_result"
    }
   ],
   "source": [
    "#recortar nube de puntos\n",
    "\n",
    "data_pts_unc = pd.read_csv(\"nubes/cloud_87.pcd\", sep=\" \", skiprows=11, names=[\"X\", \"Y\", \"Z\", \"RGB\"])\n",
    "data_pts_unc.head()"
   ]
  },
  {
   "cell_type": "code",
   "execution_count": 15,
   "metadata": {},
   "outputs": [
    {
     "data": {
      "text/html": [
       "<div>\n",
       "<style scoped>\n",
       "    .dataframe tbody tr th:only-of-type {\n",
       "        vertical-align: middle;\n",
       "    }\n",
       "\n",
       "    .dataframe tbody tr th {\n",
       "        vertical-align: top;\n",
       "    }\n",
       "\n",
       "    .dataframe thead th {\n",
       "        text-align: right;\n",
       "    }\n",
       "</style>\n",
       "<table border=\"1\" class=\"dataframe\">\n",
       "  <thead>\n",
       "    <tr style=\"text-align: right;\">\n",
       "      <th></th>\n",
       "      <th>X</th>\n",
       "      <th>Y</th>\n",
       "      <th>Z</th>\n",
       "      <th>RGB</th>\n",
       "      <th>lat</th>\n",
       "      <th>lon</th>\n",
       "      <th>height</th>\n",
       "    </tr>\n",
       "  </thead>\n",
       "  <tbody>\n",
       "    <tr>\n",
       "      <th>0</th>\n",
       "      <td>355055</td>\n",
       "      <td>170605</td>\n",
       "      <td>6635.5000</td>\n",
       "      <td>1.206931e-38</td>\n",
       "      <td>-79.893205</td>\n",
       "      <td>-2.158446</td>\n",
       "      <td>3.011255</td>\n",
       "    </tr>\n",
       "    <tr>\n",
       "      <th>1</th>\n",
       "      <td>359762</td>\n",
       "      <td>161212</td>\n",
       "      <td>3638.6001</td>\n",
       "      <td>1.814704e-38</td>\n",
       "      <td>-79.893158</td>\n",
       "      <td>-2.158540</td>\n",
       "      <td>2.711565</td>\n",
       "    </tr>\n",
       "    <tr>\n",
       "      <th>2</th>\n",
       "      <td>354025</td>\n",
       "      <td>170291</td>\n",
       "      <td>8314.7998</td>\n",
       "      <td>2.092551e-38</td>\n",
       "      <td>-79.893215</td>\n",
       "      <td>-2.158449</td>\n",
       "      <td>3.179185</td>\n",
       "    </tr>\n",
       "    <tr>\n",
       "      <th>3</th>\n",
       "      <td>353683</td>\n",
       "      <td>170134</td>\n",
       "      <td>8165.0000</td>\n",
       "      <td>2.147904e-38</td>\n",
       "      <td>-79.893219</td>\n",
       "      <td>-2.158450</td>\n",
       "      <td>3.164205</td>\n",
       "    </tr>\n",
       "    <tr>\n",
       "      <th>4</th>\n",
       "      <td>351083</td>\n",
       "      <td>180798</td>\n",
       "      <td>6814.2998</td>\n",
       "      <td>1.152083e-38</td>\n",
       "      <td>-79.893245</td>\n",
       "      <td>-2.158344</td>\n",
       "      <td>3.029135</td>\n",
       "    </tr>\n",
       "  </tbody>\n",
       "</table>\n",
       "</div>"
      ],
      "text/plain": [
       "        X       Y          Z           RGB        lat       lon    height\n",
       "0  355055  170605  6635.5000  1.206931e-38 -79.893205 -2.158446  3.011255\n",
       "1  359762  161212  3638.6001  1.814704e-38 -79.893158 -2.158540  2.711565\n",
       "2  354025  170291  8314.7998  2.092551e-38 -79.893215 -2.158449  3.179185\n",
       "3  353683  170134  8165.0000  2.147904e-38 -79.893219 -2.158450  3.164205\n",
       "4  351083  180798  6814.2998  1.152083e-38 -79.893245 -2.158344  3.029135"
      ]
     },
     "execution_count": 15,
     "metadata": {},
     "output_type": "execute_result"
    }
   ],
   "source": [
    "data_pts = data_pts_unc.copy()\n",
    "data_pts[\"lat\"] = data_pts_unc[\"X\"]*0.00000001 + (-79.896755406032327)\n",
    "data_pts[\"lon\"] = data_pts_unc[\"Y\"]*0.00000001 + (-2.160151783696628)\n",
    "data_pts[\"height\"] = data_pts_unc[\"Z\"]*0.0001 + (2.3477050884498151)\n",
    "data_pts.head()"
   ]
  },
  {
   "cell_type": "code",
   "execution_count": 25,
   "metadata": {},
   "outputs": [
    {
     "data": {
      "text/plain": [
       "3.4999950884498148"
      ]
     },
     "execution_count": 25,
     "metadata": {},
     "output_type": "execute_result"
    }
   ],
   "source": [
    "only_tall_pts = data_pts[(data_pts.height>2.5) & (data_pts.height<3.5)]\n",
    "only_tall_pts.height.max()\n"
   ]
  },
  {
   "cell_type": "code",
   "execution_count": 21,
   "metadata": {},
   "outputs": [
    {
     "data": {
      "text/html": [
       "<div>\n",
       "<style scoped>\n",
       "    .dataframe tbody tr th:only-of-type {\n",
       "        vertical-align: middle;\n",
       "    }\n",
       "\n",
       "    .dataframe tbody tr th {\n",
       "        vertical-align: top;\n",
       "    }\n",
       "\n",
       "    .dataframe thead th {\n",
       "        text-align: right;\n",
       "    }\n",
       "</style>\n",
       "<table border=\"1\" class=\"dataframe\">\n",
       "  <thead>\n",
       "    <tr style=\"text-align: right;\">\n",
       "      <th></th>\n",
       "      <th>X</th>\n",
       "      <th>Y</th>\n",
       "      <th>Z</th>\n",
       "      <th>RGB</th>\n",
       "    </tr>\n",
       "  </thead>\n",
       "  <tbody>\n",
       "    <tr>\n",
       "      <th>0</th>\n",
       "      <td>355055</td>\n",
       "      <td>170605</td>\n",
       "      <td>6635.5000</td>\n",
       "      <td>1.206931e-38</td>\n",
       "    </tr>\n",
       "    <tr>\n",
       "      <th>1</th>\n",
       "      <td>359762</td>\n",
       "      <td>161212</td>\n",
       "      <td>3638.6001</td>\n",
       "      <td>1.814704e-38</td>\n",
       "    </tr>\n",
       "    <tr>\n",
       "      <th>2</th>\n",
       "      <td>354025</td>\n",
       "      <td>170291</td>\n",
       "      <td>8314.7998</td>\n",
       "      <td>2.092551e-38</td>\n",
       "    </tr>\n",
       "    <tr>\n",
       "      <th>3</th>\n",
       "      <td>353683</td>\n",
       "      <td>170134</td>\n",
       "      <td>8165.0000</td>\n",
       "      <td>2.147904e-38</td>\n",
       "    </tr>\n",
       "    <tr>\n",
       "      <th>4</th>\n",
       "      <td>351083</td>\n",
       "      <td>180798</td>\n",
       "      <td>6814.2998</td>\n",
       "      <td>1.152083e-38</td>\n",
       "    </tr>\n",
       "  </tbody>\n",
       "</table>\n",
       "</div>"
      ],
      "text/plain": [
       "        X       Y          Z           RGB\n",
       "0  355055  170605  6635.5000  1.206931e-38\n",
       "1  359762  161212  3638.6001  1.814704e-38\n",
       "2  354025  170291  8314.7998  2.092551e-38\n",
       "3  353683  170134  8165.0000  2.147904e-38\n",
       "4  351083  180798  6814.2998  1.152083e-38"
      ]
     },
     "execution_count": 21,
     "metadata": {},
     "output_type": "execute_result"
    }
   ],
   "source": [
    "only_tall_pts[[\"X\", \"Y\", \"Z\", \"RGB\"]].head()"
   ]
  },
  {
   "cell_type": "code",
   "execution_count": 26,
   "metadata": {},
   "outputs": [],
   "source": [
    "#guardar\n",
    "\n",
    "only_tall_pts[[\"X\", \"Y\", \"Z\", \"RGB\"]].to_csv(\"nubes/medium_clouds/medium_cloud_87.pcd\", sep=\" \", index=False, index_label=False, header=False)"
   ]
  },
  {
   "cell_type": "code",
   "execution_count": 27,
   "metadata": {},
   "outputs": [],
   "source": [
    "#aumentarle el header\n",
    "lines = len(only_tall_pts)\n",
    "include_header(\"nubes/medium_clouds/medium_cloud_87.pcd\",lines)"
   ]
  },
  {
   "cell_type": "code",
   "execution_count": 28,
   "metadata": {},
   "outputs": [],
   "source": [
    "def include_header(filename, lines):\n",
    "    header = \"\"\"# .PCD v0.7 - Point Cloud Data file format\n",
    "VERSION 0.7\n",
    "FIELDS x y z rgb\n",
    "SIZE 4 4 4 4\n",
    "TYPE F F F F\n",
    "COUNT 1 1 1 1\n",
    "WIDTH {0}\n",
    "HEIGHT 1\n",
    "VIEWPOINT 0 0 0 1 0 0 0\n",
    "POINTS {1}\n",
    "DATA ascii\"\"\".format(lines,lines)\n",
    "    with open(filename, 'r+') as f:\n",
    "        file_data = f.read()\n",
    "        f.seek(0, 0)\n",
    "        f.write(header + '\\n' + file_data)"
   ]
  },
  {
   "cell_type": "code",
   "execution_count": 30,
   "metadata": {},
   "outputs": [],
   "source": [
    "#list of point clouds\n",
    "ls_clouds = [\"cloud_88.pcd\", \"cloud_43.pcd\"]\n",
    "for cloud in ls_clouds:\n",
    "    nube_src = \"nubes/\"+cloud\n",
    "    data_pts_unc = pd.read_csv(nube_src, sep=\" \", skiprows=11, names=[\"X\", \"Y\", \"Z\", \"RGB\"])\n",
    "    data_pts_unc[\"lat\"] = data_pts_unc[\"X\"]*0.00000001 + (-79.896755406032327)\n",
    "    data_pts_unc[\"lon\"] = data_pts_unc[\"Y\"]*0.00000001 + (-2.160151783696628)\n",
    "    data_pts_unc[\"height\"] = data_pts_unc[\"Z\"]*0.0001 + (2.3477050884498151)\n",
    "    only_tall_pts = data_pts_unc[(data_pts_unc.height>2.5) & (data_pts_unc.height<3.5)]\n",
    "    new_name = \"nubes/medium_clouds/medium_\" + cloud\n",
    "    only_tall_pts[[\"X\", \"Y\", \"Z\", \"RGB\"]].to_csv(new_name, sep=\" \", index=False, index_label=False)\n",
    "    lines = len(only_tall_pts)\n",
    "    include_header(new_name,lines)"
   ]
  }
 ],
 "metadata": {
  "kernelspec": {
   "display_name": "Python 3",
   "language": "python",
   "name": "python3"
  },
  "language_info": {
   "codemirror_mode": {
    "name": "ipython",
    "version": 3
   },
   "file_extension": ".py",
   "mimetype": "text/x-python",
   "name": "python",
   "nbconvert_exporter": "python",
   "pygments_lexer": "ipython3",
   "version": "3.5.2"
  }
 },
 "nbformat": 4,
 "nbformat_minor": 2
}
